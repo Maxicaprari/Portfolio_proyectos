{
  "cells": [
    {
      "cell_type": "markdown",
      "metadata": {
        "id": "q1Ic7qlFHsnJ"
      },
      "source": [
        " <img src=\"https://www.eco.unc.edu.ar/files/comunicacion/imagen-institucional/logoFCE1.jpg\" width=350 height=200 align= 'center'/>\n",
        "\n"
      ]
    },
    {
      "cell_type": "markdown",
      "metadata": {
        "id": "I5vkDiGrHsnR"
      },
      "source": [
        "# Introducción a la Ciencia de Datos- con Python\n",
        "____\n",
        "\n",
        "\n",
        "\n",
        "### Programa: contenidos por Unidad\n",
        "\n",
        "**Unidad N°1. Ciencia de Datos**\n",
        "- Ciencia de datos: definición y su importancia en la actualidad. Aplicaciones prácticas en el campo de las ciencias económicas.\n",
        "- Introducción a la analítica de datos (Data Analytics): terminología y conceptos fundamentales, categorías de Data Analitycs: descriptivo, predictivo, prescriptivo.\n",
        "- El proceso de data science: roles comunes, datos, obtención de datos, curación e ingeniería de características (feature engineering).\n",
        "- Big data: introducción y nociones básicas. Identificación de grandes volúmenes de datos\n",
        "- Arquitectura de datos. Business Intelligence.\n",
        "- Disponibilidad de datos\n",
        "- Gobernanza de los datos\n",
        "- Ética en la ciencia de datos.\n",
        "- Software de programación en ciencia de datos\n"
      ]
    },
    {
      "cell_type": "markdown",
      "metadata": {
        "id": "z3nh4sQmHsnS"
      },
      "source": [
        "# 1. Introducción a Python\n",
        "\n",
        "***\n",
        "\n",
        "## Introducción a la programación\n",
        "\n",
        "### ¿Qué es un lenguaje de programación?\n",
        "\n",
        "<p style='text-align: justify;'> Una computadora digital comprende y trabaja con valores binarios, es decir, unos y ceros. Sin embargo, para interactuar con los humanos y permitirles escribir instrucciones, se utilizan lenguajes de programación que son más legibles y comprensibles para nosotros. Un lenguaje de programación es un conjunto de reglas y sintaxis que permite a los programadores escribir instrucciones y comandos que una computadora puede entender y ejecutar. Es un medio de comunicación entre los humanos y las máquinas, permitiendo a los programadores expresar sus ideas y soluciones en un formato comprensible por las computadoras.\n",
        "\n",
        "### ¿Qué es el código fuente?\n",
        "\n",
        "El código fuente es ese texto legible por humanos que contiene las instrucciones escritas en un lenguaje de programación específico. Los programadores escriben el código fuente utilizando palabras clave, estructuras y sintaxis determinadas. Luego, se utiliza un programa especial llamado compilador o intérprete para traducir ese código fuente a un lenguaje de bajo nivel o código máquina, compuesto por instrucciones en forma de unos y ceros, que la computadora puede entender y ejecutar.\n",
        "\n",
        "En resumen, el código fuente actúa como un puente entre los programadores y las computadoras, ya que permite expresar las instrucciones en un formato que los humanos pueden entender y luego ser traducido al lenguaje de la máquina para que la computadora pueda ejecutarlas.\n",
        "\n",
        "### ¿Qué es programar?\n",
        "\n",
        "Programar es el proceso de dar instrucciones a una computadora para que realice tareas específicas. Es como escribir un conjunto de pasos o reglas en un lenguaje especial que la computadora puede entender y seguir. Los programadores utilizan lenguajes de programación para comunicarse con la computadora y decirle qué hacer. Al programar, se pueden crear programas, aplicaciones y software que nos ayudan a resolver problemas, automatizar tareas y realizar diversas funciones.\n",
        "\n",
        "### ¿Qué es Python?\n",
        "\n",
        "<p style='text-align: justify;'> Python es un lenguaje de programación de código abierto, alto nivel, y propósito general. Esto implica que se puede utilizar sin costo, que posee una sintaxis cercana a la lógica humana y que posee múltiples campos de aplicación. Algunas características destacadas de Python son:\n",
        "\n",
        "+ **Legibilidad:** La sintaxis de Python está diseñada para ser fácil de leer y comprender.\n",
        "\n",
        "+ **Versatilidad:** Python es un lenguaje de propósito general que se puede utilizar para una amplia gama de aplicaciones, como desarrollo web, análisis de datos, inteligencia artificial, automatización de tareas, entre otros.\n",
        "\n",
        "+ **Múltiples librerías incluídas:** Python viene con una amplia librería estándar que proporciona módulos y funciones listas para usar.\n",
        "\n",
        "+ **Multiplataforma:** Python se ejecuta en diversos sistemas operativos, incluyendo Windows, macOS, Linux y otros.\n",
        "\n",
        "+ **Comunidad activa:** Python cuenta con una gran comunidad de desarrolladores que contribuyen con librerías y recursos de aprendizaje. Además, hay un gran número de conferencias, cursos y eventos dedicados a Python en todo el mundo.\n",
        "\n",
        "### ¿Qué es Google Colab?\n",
        "\n",
        "\n",
        "Google Colab, también conocido como Google Colaboratory es un entorno de desarrollo en línea basado en la nube que admite varios lenguajes de programación, incluido Python.\n",
        "\n",
        "En Google Colab, podemos escribir y ejecutar código Python en un entorno interactivo que llamaremos notebook. Google Colab proporciona una interfaz web donde podemos crear, editar y ejecutar celdas de código y texto.\n",
        "\n",
        "Cuando ejecutas una celda en Google Colab que contiene código Python, el código se envía a los servidores de Google, se ejecuta y se muestra el resultado en la salida de la celda. Esto sucede en tiempo real y no requiere que configures un entorno local de Python en tu máquina.\n",
        "\n",
        "### Propuesta de discusión: ¿Por qué aprender un lenguaje de programación?"
      ]
    },
    {
      "cell_type": "markdown",
      "metadata": {
        "id": "bz8r3p8YHsnT"
      },
      "source": [
        "## Conceptos elementales en Python\n",
        "\n",
        "### Variables\n",
        "\n",
        "Las variables son contenedores que se utilizan para almacenar valores. Las variables permiten hacer referencia y manipular datos en un programa."
      ]
    },
    {
      "cell_type": "code",
      "source": [
        "print(\"hola ciencia\")"
      ],
      "metadata": {
        "colab": {
          "base_uri": "https://localhost:8080/"
        },
        "id": "bTH5UtU08aUO",
        "outputId": "341dccb4-6b77-4f73-9e0e-2f59bc8df745"
      },
      "execution_count": 1,
      "outputs": [
        {
          "output_type": "stream",
          "name": "stdout",
          "text": [
            "hola ciencia\n"
          ]
        }
      ]
    },
    {
      "cell_type": "code",
      "source": [
        "\"hola\""
      ],
      "metadata": {
        "colab": {
          "base_uri": "https://localhost:8080/",
          "height": 35
        },
        "id": "XsbQn3HS9DWn",
        "outputId": "402d8a08-4dd2-4c41-f644-bf411f8b49a9"
      },
      "execution_count": 2,
      "outputs": [
        {
          "output_type": "execute_result",
          "data": {
            "text/plain": [
              "'hola'"
            ],
            "application/vnd.google.colaboratory.intrinsic+json": {
              "type": "string"
            }
          },
          "metadata": {},
          "execution_count": 2
        }
      ]
    },
    {
      "cell_type": "code",
      "source": [
        "informacion = 2568"
      ],
      "metadata": {
        "id": "1bDsor3d9IyC"
      },
      "execution_count": 3,
      "outputs": []
    },
    {
      "cell_type": "code",
      "execution_count": 4,
      "metadata": {
        "id": "eYo-trCsHsnV",
        "colab": {
          "base_uri": "https://localhost:8080/"
        },
        "outputId": "2400cd17-4ba3-485e-b23c-9c8481db6ab1"
      },
      "outputs": [
        {
          "output_type": "stream",
          "name": "stdout",
          "text": [
            "Introducción a la Ciencia de Datos\n"
          ]
        }
      ],
      "source": [
        "name = 'Introducción a la Ciencia de Datos'\n",
        "print(name)"
      ]
    },
    {
      "cell_type": "code",
      "source": [
        "hola = 20"
      ],
      "metadata": {
        "id": "XaaKtmOY-YTS"
      },
      "execution_count": 5,
      "outputs": []
    },
    {
      "cell_type": "code",
      "source": [],
      "metadata": {
        "id": "_6r4qLB_-xPN"
      },
      "execution_count": 5,
      "outputs": []
    },
    {
      "cell_type": "code",
      "source": [
        "print(informacion)"
      ],
      "metadata": {
        "colab": {
          "base_uri": "https://localhost:8080/"
        },
        "id": "5TbkpE2_-wsh",
        "outputId": "91502db2-38ff-4340-95fa-c77f94683a3f"
      },
      "execution_count": 8,
      "outputs": [
        {
          "output_type": "stream",
          "name": "stdout",
          "text": [
            "2568\n"
          ]
        }
      ]
    },
    {
      "cell_type": "markdown",
      "metadata": {
        "id": "h2aGPGyoHsnZ"
      },
      "source": [
        "### Clasificación de Objetos\n",
        "\n",
        "#### Números\n",
        "\n",
        "<p style='text-align: justify;'> Representan valores numéricos. Los objetos numéricos se crean cuando se les asigna un valor. Python soporta tres tipos de números diferentes.</p>\n",
        "\n",
        "- Números enteros (*integer*).\n",
        "- Números reales con parte decimal (*float*).\n",
        "- Números complejos (*complex*)."
      ]
    },
    {
      "cell_type": "code",
      "execution_count": 9,
      "metadata": {
        "id": "eyMEl25rHsna"
      },
      "outputs": [],
      "source": [
        "my_int = 10\n",
        "my_float = 15.789\n",
        "my_comp = 3+5j"
      ]
    },
    {
      "cell_type": "code",
      "execution_count": 10,
      "metadata": {
        "id": "twWV5KssHsna",
        "colab": {
          "base_uri": "https://localhost:8080/"
        },
        "outputId": "14e3f1f1-c8d8-4455-c3b5-1b2c2a14f300"
      },
      "outputs": [
        {
          "output_type": "stream",
          "name": "stdout",
          "text": [
            "<class 'int'>\n",
            "<class 'float'>\n"
          ]
        }
      ],
      "source": [
        "print(type(my_int))\n",
        "print(type(my_float))"
      ]
    },
    {
      "cell_type": "markdown",
      "metadata": {
        "id": "1t6uz5q9Hsnb"
      },
      "source": [
        "#### Cadenas de texto\n",
        "\n",
        "Las cadenas de texto representan secuencias de caracteres y se utilizan para almacenar y manipular texto. Se crean utilizando comillas simples ('') o comillas dobles (\"\")."
      ]
    },
    {
      "cell_type": "code",
      "execution_count": 11,
      "metadata": {
        "id": "QAfCQsRmHsnb"
      },
      "outputs": [],
      "source": [
        "my_string = 'Esto es una cadena'"
      ]
    },
    {
      "cell_type": "code",
      "source": [
        "mystring2 = \"Holaaaaa\"\n",
        "print(mystring2)\n",
        "print(my_string)"
      ],
      "metadata": {
        "id": "7lcb-dhY6BYm",
        "colab": {
          "base_uri": "https://localhost:8080/"
        },
        "outputId": "7eedacb6-3efd-4012-f8a0-586a314ce519"
      },
      "execution_count": 12,
      "outputs": [
        {
          "output_type": "stream",
          "name": "stdout",
          "text": [
            "Holaaaaa\n",
            "Esto es una cadena\n"
          ]
        }
      ]
    },
    {
      "cell_type": "code",
      "source": [
        "2+2"
      ],
      "metadata": {
        "colab": {
          "base_uri": "https://localhost:8080/"
        },
        "id": "wr9GSUOgAbOZ",
        "outputId": "05926a78-796c-47d7-b546-0f8fb426707a"
      },
      "execution_count": 13,
      "outputs": [
        {
          "output_type": "execute_result",
          "data": {
            "text/plain": [
              "4"
            ]
          },
          "metadata": {},
          "execution_count": 13
        }
      ]
    },
    {
      "cell_type": "code",
      "source": [
        "\"2\"+\"2\""
      ],
      "metadata": {
        "colab": {
          "base_uri": "https://localhost:8080/",
          "height": 35
        },
        "id": "cB_aiWemAe05",
        "outputId": "a251d06a-9927-4a06-a538-4c2b395de1b7"
      },
      "execution_count": 14,
      "outputs": [
        {
          "output_type": "execute_result",
          "data": {
            "text/plain": [
              "'22'"
            ],
            "application/vnd.google.colaboratory.intrinsic+json": {
              "type": "string"
            }
          },
          "metadata": {},
          "execution_count": 14
        }
      ]
    },
    {
      "cell_type": "code",
      "source": [
        "print(type(my_string))"
      ],
      "metadata": {
        "id": "HScp1kTJ4LAw",
        "colab": {
          "base_uri": "https://localhost:8080/"
        },
        "outputId": "e521bc45-498a-4bde-ce09-7084bf7f7d8d"
      },
      "execution_count": 15,
      "outputs": [
        {
          "output_type": "stream",
          "name": "stdout",
          "text": [
            "<class 'str'>\n"
          ]
        }
      ]
    },
    {
      "cell_type": "code",
      "execution_count": null,
      "metadata": {
        "id": "fP22-HPjHsnb"
      },
      "outputs": [],
      "source": [
        "len(my_string)"
      ]
    },
    {
      "cell_type": "markdown",
      "metadata": {
        "id": "QefmrlZ9Hsnc"
      },
      "source": [
        "#### Booleanos\n",
        "\n",
        "Los booleanos asumen solamente dos valores: Verdadero (*True*) y Falso (*False*)."
      ]
    },
    {
      "cell_type": "code",
      "execution_count": 16,
      "metadata": {
        "id": "aAvqXIaGHsnc"
      },
      "outputs": [],
      "source": [
        "my_true = True\n",
        "my_false = False"
      ]
    },
    {
      "cell_type": "code",
      "source": [
        "type(my_true)"
      ],
      "metadata": {
        "id": "bfJne1jPOBxc",
        "colab": {
          "base_uri": "https://localhost:8080/"
        },
        "outputId": "7305bf84-b95b-4c7f-f9e3-3e847d00ea49"
      },
      "execution_count": 17,
      "outputs": [
        {
          "output_type": "execute_result",
          "data": {
            "text/plain": [
              "bool"
            ]
          },
          "metadata": {},
          "execution_count": 17
        }
      ]
    },
    {
      "cell_type": "code",
      "source": [
        "roi = 0.5\n",
        "tasa = .05"
      ],
      "metadata": {
        "id": "M3mGXG-_Capm"
      },
      "execution_count": 18,
      "outputs": []
    },
    {
      "cell_type": "code",
      "source": [
        "roi*tasa"
      ],
      "metadata": {
        "colab": {
          "base_uri": "https://localhost:8080/"
        },
        "id": "l1Usfsz9Cjnp",
        "outputId": "42b3f732-5571-4467-88b5-39f5abd67494"
      },
      "execution_count": 19,
      "outputs": [
        {
          "output_type": "execute_result",
          "data": {
            "text/plain": [
              "0.025"
            ]
          },
          "metadata": {},
          "execution_count": 19
        }
      ]
    },
    {
      "cell_type": "markdown",
      "metadata": {
        "id": "ICAFUoSvHsnc"
      },
      "source": [
        "#### Listas\n",
        "\n",
        "Las listas son secuencias ordenadas y mutables de elementos. Se crean utilizando corchetes [], y los elementos se separan por comas. Permiten almacenar diferentes tipos de objetos y se pueden agregar, eliminar o modificar elementos."
      ]
    },
    {
      "cell_type": "code",
      "execution_count": 20,
      "metadata": {
        "id": "kJFuDKokHsnd"
      },
      "outputs": [],
      "source": [
        "my_list = [\"Esto\", \"es \", \"una\", \"lista\"]"
      ]
    },
    {
      "cell_type": "code",
      "execution_count": null,
      "metadata": {
        "id": "UeESeLIAHsnd"
      },
      "outputs": [],
      "source": [
        "len(my_list)"
      ]
    },
    {
      "cell_type": "code",
      "source": [
        " retornos = [0.05,0.02]\n",
        " retornos[0]*100"
      ],
      "metadata": {
        "colab": {
          "base_uri": "https://localhost:8080/"
        },
        "id": "_PPSZUiZCu4N",
        "outputId": "7526b651-197b-45df-c042-efdedbeef492"
      },
      "execution_count": 21,
      "outputs": [
        {
          "output_type": "execute_result",
          "data": {
            "text/plain": [
              "5.0"
            ]
          },
          "metadata": {},
          "execution_count": 21
        }
      ]
    },
    {
      "cell_type": "code",
      "source": [
        "print(my_list)"
      ],
      "metadata": {
        "id": "326vvvdL7lLW",
        "colab": {
          "base_uri": "https://localhost:8080/"
        },
        "outputId": "f265715b-8a63-4aa8-a76e-555f5cd0175a"
      },
      "execution_count": 22,
      "outputs": [
        {
          "output_type": "stream",
          "name": "stdout",
          "text": [
            "['Esto', 'es ', 'una', 'lista']\n"
          ]
        }
      ]
    },
    {
      "cell_type": "markdown",
      "metadata": {
        "id": "pJ3v-nJ6Hsnd"
      },
      "source": [
        "#### Tuplas\n",
        "\n",
        " Las tuplas son secuencias ordenadas e inmutables de elementos. Se crean utilizando paréntesis () y los elementos se separan por comas. No se pueden modificar después de su creación."
      ]
    },
    {
      "cell_type": "code",
      "execution_count": 26,
      "metadata": {
        "id": "J0El5BIHHsnd"
      },
      "outputs": [],
      "source": [
        "my_tuple = (\"Esto\", \"es \", \"una\", \"tupla.\")"
      ]
    },
    {
      "cell_type": "code",
      "execution_count": 28,
      "metadata": {
        "id": "LtOanvbpHsne",
        "colab": {
          "base_uri": "https://localhost:8080/"
        },
        "outputId": "642317f2-1130-4d5d-c97c-d8865c239cd1"
      },
      "outputs": [
        {
          "output_type": "execute_result",
          "data": {
            "text/plain": [
              "4"
            ]
          },
          "metadata": {},
          "execution_count": 28
        }
      ],
      "source": [
        "len(my_tuple)"
      ]
    },
    {
      "cell_type": "code",
      "source": [
        "tupla1= (1,2,3)\n",
        "print(tupla1[0])"
      ],
      "metadata": {
        "colab": {
          "base_uri": "https://localhost:8080/"
        },
        "id": "Y68NqaPLDnTi",
        "outputId": "91a1f430-8e8d-4ec2-e299-ddc087905622"
      },
      "execution_count": 33,
      "outputs": [
        {
          "output_type": "stream",
          "name": "stdout",
          "text": [
            "1\n"
          ]
        }
      ]
    },
    {
      "cell_type": "code",
      "source": [
        "lista1 = [1,2,3]\n",
        "lista1[0] = \"Hola\"\n",
        "print(lista1)"
      ],
      "metadata": {
        "colab": {
          "base_uri": "https://localhost:8080/"
        },
        "id": "xGQpKpIzDViG",
        "outputId": "0d57ef83-09e2-42b8-d288-cdd31c1bf326"
      },
      "execution_count": 34,
      "outputs": [
        {
          "output_type": "stream",
          "name": "stdout",
          "text": [
            "['Hola', 2, 3]\n"
          ]
        }
      ]
    },
    {
      "cell_type": "markdown",
      "metadata": {
        "id": "xatZPkGjHsne"
      },
      "source": [
        "#### Conjuntos\n",
        "\n",
        "Los conjuntos son colecciones desordenadas de elementos únicos. No contienen duplicados y se utilizan para realizar operaciones de conjuntos, como unión, intersección y diferencia. Se crean utilizando llaves {}."
      ]
    },
    {
      "cell_type": "code",
      "execution_count": 35,
      "metadata": {
        "id": "wNxqBjPpHsne"
      },
      "outputs": [],
      "source": [
        "my_set = {\"Esto\", \"es \", \"un\", \"conjunto.\"}"
      ]
    },
    {
      "cell_type": "code",
      "source": [
        "my_set = {\"Esto\", \"es \", \"un\", \"conjunto.\",\"conjunto.\",\"conjunto.\",\"conjunto.\"}\n",
        "print(my_set)"
      ],
      "metadata": {
        "colab": {
          "base_uri": "https://localhost:8080/"
        },
        "id": "IPazfk-tEMIU",
        "outputId": "290114c8-cb4e-447c-aac0-ca62bd3e9809"
      },
      "execution_count": 36,
      "outputs": [
        {
          "output_type": "stream",
          "name": "stdout",
          "text": [
            "{'es ', 'conjunto.', 'un', 'Esto'}\n"
          ]
        }
      ]
    },
    {
      "cell_type": "code",
      "source": [
        "my_set[1] # a qué se debe este error??"
      ],
      "metadata": {
        "colab": {
          "base_uri": "https://localhost:8080/",
          "height": 141
        },
        "id": "wtHqch-BF1Qx",
        "outputId": "62f10c87-a96d-4dfd-a1b5-5c3d56d6db56"
      },
      "execution_count": 40,
      "outputs": [
        {
          "output_type": "error",
          "ename": "TypeError",
          "evalue": "'set' object is not subscriptable",
          "traceback": [
            "\u001b[0;31m---------------------------------------------------------------------------\u001b[0m",
            "\u001b[0;31mTypeError\u001b[0m                                 Traceback (most recent call last)",
            "\u001b[0;32m<ipython-input-40-d447519d8314>\u001b[0m in \u001b[0;36m<cell line: 0>\u001b[0;34m()\u001b[0m\n\u001b[0;32m----> 1\u001b[0;31m \u001b[0mmy_set\u001b[0m\u001b[0;34m[\u001b[0m\u001b[0;36m1\u001b[0m\u001b[0;34m]\u001b[0m\u001b[0;34m\u001b[0m\u001b[0;34m\u001b[0m\u001b[0m\n\u001b[0m",
            "\u001b[0;31mTypeError\u001b[0m: 'set' object is not subscriptable"
          ]
        }
      ]
    },
    {
      "cell_type": "code",
      "execution_count": 41,
      "metadata": {
        "id": "sW0R_dT5Hsnf",
        "colab": {
          "base_uri": "https://localhost:8080/"
        },
        "outputId": "fc70b217-5957-48f9-e3d9-9df35ca7d966"
      },
      "outputs": [
        {
          "output_type": "execute_result",
          "data": {
            "text/plain": [
              "set"
            ]
          },
          "metadata": {},
          "execution_count": 41
        }
      ],
      "source": [
        "type(my_set)"
      ]
    },
    {
      "cell_type": "markdown",
      "metadata": {
        "id": "LuYPwfwmHsnf"
      },
      "source": [
        "#### Diccionarios\n",
        "\n",
        "<p style='text-align: justify;'>Los diccionarios de Python son un tipo de matriz asociativa: a cada clave corresponde un determinado valor. Las claves son variables de tipo string. Los valores, por otro lado, pueden ser cualquier objeto Python. Se crean utilizando llaves {} y los pares clave-valor se separan por comas."
      ]
    },
    {
      "cell_type": "code",
      "execution_count": 42,
      "metadata": {
        "id": "NYrCnz-8Hsnf"
      },
      "outputs": [],
      "source": [
        "my_dict = {\n",
        "    'Clave 1': 'Valor 1',\n",
        "    'Clave 2': 'Valor 2',\n",
        "    'Clave 3': 'Valor 3'\n",
        "}"
      ]
    },
    {
      "cell_type": "code",
      "source": [
        "sales = {\n",
        "    \"Cliente1\": 2500,\n",
        "    \"Cliente2\": 3500\n",
        "\n",
        "}"
      ],
      "metadata": {
        "id": "IOmtTuCKEzvh"
      },
      "execution_count": 43,
      "outputs": []
    },
    {
      "cell_type": "code",
      "source": [
        "print(sales)"
      ],
      "metadata": {
        "colab": {
          "base_uri": "https://localhost:8080/"
        },
        "id": "KWc16ShzE19O",
        "outputId": "51c50c22-1e4e-489c-c568-7a2cb5023628"
      },
      "execution_count": 44,
      "outputs": [
        {
          "output_type": "stream",
          "name": "stdout",
          "text": [
            "{'Cliente1': 2500, 'Cliente2': 3500}\n"
          ]
        }
      ]
    },
    {
      "cell_type": "code",
      "source": [
        "sales.get(\"Cliente1\")"
      ],
      "metadata": {
        "colab": {
          "base_uri": "https://localhost:8080/"
        },
        "id": "BFeENNcqE1-m",
        "outputId": "d9729edb-4b5a-4802-880c-37ba548314dc"
      },
      "execution_count": 45,
      "outputs": [
        {
          "output_type": "execute_result",
          "data": {
            "text/plain": [
              "2500"
            ]
          },
          "metadata": {},
          "execution_count": 45
        }
      ]
    },
    {
      "cell_type": "markdown",
      "metadata": {
        "id": "TYrFXgZVHsng"
      },
      "source": [
        "### Manipulación de Objetos\n",
        "\n",
        "#### Indexación\n",
        "\n",
        "La indexación en Python es un mecanismo que permite acceder a elementos individuales en una secuencia ordenada, como una cadena de caracteres, una lista o una tupla. Cada elemento en una secuencia tiene un índice asociado que indica su posición dentro de la secuencia.\n",
        "\n",
        "En Python, la indexación comienza desde el índice 0, lo que significa que el primer elemento de una secuencia tiene un índice de 0, el segundo elemento tiene un índice de 1 y así sucesivamente."
      ]
    },
    {
      "cell_type": "code",
      "source": [
        "my_list = [2,5,6,7,10,11]"
      ],
      "metadata": {
        "id": "_JZMOFrvZZ98"
      },
      "execution_count": null,
      "outputs": []
    },
    {
      "cell_type": "code",
      "execution_count": null,
      "metadata": {
        "id": "6RhyLee8Hsng",
        "colab": {
          "base_uri": "https://localhost:8080/"
        },
        "outputId": "f86d7af5-bbf4-4880-f711-e24421932584"
      },
      "outputs": [
        {
          "output_type": "execute_result",
          "data": {
            "text/plain": [
              "6"
            ]
          },
          "metadata": {},
          "execution_count": 39
        }
      ],
      "source": [
        "# La indexación en Python empieza en 0\n",
        "\n",
        "my_list[2]"
      ]
    },
    {
      "cell_type": "code",
      "source": [
        "my_tuple"
      ],
      "metadata": {
        "id": "PuX27San-PZN",
        "colab": {
          "base_uri": "https://localhost:8080/"
        },
        "outputId": "0d083e9c-1bcc-4c93-96f4-23023758485f"
      },
      "execution_count": null,
      "outputs": [
        {
          "output_type": "execute_result",
          "data": {
            "text/plain": [
              "('Esto', 'es ', 'una', 'tupla.')"
            ]
          },
          "metadata": {},
          "execution_count": 44
        }
      ]
    },
    {
      "cell_type": "code",
      "source": [
        "n = len(my_tuple)\n",
        "my_tuple[n-1]"
      ],
      "metadata": {
        "colab": {
          "base_uri": "https://localhost:8080/",
          "height": 35
        },
        "id": "yz-xRGf0Gj_w",
        "outputId": "4a71af39-60f3-46b3-dc30-fae371c17348"
      },
      "execution_count": null,
      "outputs": [
        {
          "output_type": "execute_result",
          "data": {
            "text/plain": [
              "'tupla.'"
            ],
            "application/vnd.google.colaboratory.intrinsic+json": {
              "type": "string"
            }
          },
          "metadata": {},
          "execution_count": 46
        }
      ]
    },
    {
      "cell_type": "code",
      "execution_count": null,
      "metadata": {
        "id": "D3J5Ft8jHsnh"
      },
      "outputs": [],
      "source": [
        "# También puedo ir de atrás para adelante\n",
        "\n",
        "my_tuple[-2]"
      ]
    },
    {
      "cell_type": "code",
      "execution_count": null,
      "metadata": {
        "id": "y1TdDLOnHsnh",
        "colab": {
          "base_uri": "https://localhost:8080/"
        },
        "outputId": "21d2aa77-b69e-4d83-99e8-58e49587efb8"
      },
      "outputs": [
        {
          "output_type": "execute_result",
          "data": {
            "text/plain": [
              "('Valor 2', 'Valor 2')"
            ]
          },
          "metadata": {},
          "execution_count": 49
        }
      ],
      "source": [
        "# Para extraer el valor de un diccionario debo proveerle la palabra de referencia o 'key'\n",
        "\n",
        "my_dict['Clave 2'], my_dict.get(\"Clave 2\")"
      ]
    },
    {
      "cell_type": "code",
      "source": [
        "my_dict"
      ],
      "metadata": {
        "id": "Zcu-DWtE-k7d",
        "colab": {
          "base_uri": "https://localhost:8080/"
        },
        "outputId": "3a554753-26af-40b2-f24f-a2716a04219e"
      },
      "execution_count": null,
      "outputs": [
        {
          "output_type": "execute_result",
          "data": {
            "text/plain": [
              "{'Clave 1': 'Valor 1', 'Clave 2': 'Valor 2', 'Clave 3': 'Valor 3'}"
            ]
          },
          "metadata": {},
          "execution_count": 50
        }
      ]
    },
    {
      "cell_type": "code",
      "execution_count": null,
      "metadata": {
        "id": "FMdT8DkEHsnh",
        "colab": {
          "base_uri": "https://localhost:8080/",
          "height": 141
        },
        "outputId": "493e834c-c750-4d0b-8923-29e6c85c4114"
      },
      "outputs": [
        {
          "output_type": "error",
          "ename": "KeyError",
          "evalue": "0",
          "traceback": [
            "\u001b[0;31m---------------------------------------------------------------------------\u001b[0m",
            "\u001b[0;31mKeyError\u001b[0m                                  Traceback (most recent call last)",
            "\u001b[0;32m<ipython-input-51-2e042f7087f7>\u001b[0m in \u001b[0;36m<cell line: 1>\u001b[0;34m()\u001b[0m\n\u001b[0;32m----> 1\u001b[0;31m \u001b[0mmy_dict\u001b[0m\u001b[0;34m[\u001b[0m\u001b[0;36m0\u001b[0m\u001b[0;34m]\u001b[0m\u001b[0;34m\u001b[0m\u001b[0;34m\u001b[0m\u001b[0m\n\u001b[0m",
            "\u001b[0;31mKeyError\u001b[0m: 0"
          ]
        }
      ],
      "source": [
        "my_dict[0] # Cómo puedo solucionarlo??"
      ]
    },
    {
      "cell_type": "code",
      "source": [
        "my_string = \"Hola a todos\"\n",
        "my_string_2 = \"Holaaaaaaaaaaaa\""
      ],
      "metadata": {
        "id": "49JznnmOHO1R"
      },
      "execution_count": 46,
      "outputs": []
    },
    {
      "cell_type": "code",
      "source": [
        "my_string_2[-1]"
      ],
      "metadata": {
        "colab": {
          "base_uri": "https://localhost:8080/",
          "height": 35
        },
        "id": "HOxU-t4uHvJY",
        "outputId": "2ca42964-c351-4a8c-bb62-348a40ddc0fc"
      },
      "execution_count": 47,
      "outputs": [
        {
          "output_type": "execute_result",
          "data": {
            "text/plain": [
              "'a'"
            ],
            "application/vnd.google.colaboratory.intrinsic+json": {
              "type": "string"
            }
          },
          "metadata": {},
          "execution_count": 47
        }
      ]
    },
    {
      "cell_type": "code",
      "execution_count": 50,
      "metadata": {
        "id": "yK7O3BtxHsni",
        "colab": {
          "base_uri": "https://localhost:8080/",
          "height": 35
        },
        "outputId": "2b23fca0-80ff-488b-b9c9-20a13d009355"
      },
      "outputs": [
        {
          "output_type": "execute_result",
          "data": {
            "text/plain": [
              "'s'"
            ],
            "application/vnd.google.colaboratory.intrinsic+json": {
              "type": "string"
            }
          },
          "metadata": {},
          "execution_count": 50
        }
      ],
      "source": [
        "# También puedo extraer partes de un string\n",
        "\n",
        "my_string[-1]"
      ]
    },
    {
      "cell_type": "code",
      "source": [
        "my_string"
      ],
      "metadata": {
        "id": "2ZlLxN5y-7f3",
        "colab": {
          "base_uri": "https://localhost:8080/",
          "height": 35
        },
        "outputId": "c5890307-6fcb-4eef-99b8-ed92536af6f4"
      },
      "execution_count": 49,
      "outputs": [
        {
          "output_type": "execute_result",
          "data": {
            "text/plain": [
              "'Hola a todos'"
            ],
            "application/vnd.google.colaboratory.intrinsic+json": {
              "type": "string"
            }
          },
          "metadata": {},
          "execution_count": 49
        }
      ]
    },
    {
      "cell_type": "code",
      "execution_count": 52,
      "metadata": {
        "scrolled": true,
        "id": "fp1cm3qsHsni",
        "colab": {
          "base_uri": "https://localhost:8080/"
        },
        "outputId": "e9ab28ca-50c0-42a7-cffe-1b88a9345369"
      },
      "outputs": [
        {
          "output_type": "stream",
          "name": "stdout",
          "text": [
            "[2, 5, 6]\n",
            "[5, 6, 7, 10, 11]\n",
            "[6, 7]\n",
            "[2, 5, 6, 7, 10]\n"
          ]
        }
      ],
      "source": [
        "# Slicing (separar)\n",
        "\n",
        "my_list = [2,5,6,7,10,11]\n",
        "\n",
        "print(my_list[:3])\n",
        "print(my_list[1:])\n",
        "print(my_list[2:4])\n",
        "print(my_list[:-1])"
      ]
    },
    {
      "cell_type": "markdown",
      "source": [
        "#### Modificación"
      ],
      "metadata": {
        "id": "w-779ZQtfhDe"
      }
    },
    {
      "cell_type": "code",
      "source": [
        "my_list"
      ],
      "metadata": {
        "id": "99rsa2er_anw",
        "colab": {
          "base_uri": "https://localhost:8080/"
        },
        "outputId": "289546c8-ac44-4129-dd14-ec5cac0d5c49"
      },
      "execution_count": 53,
      "outputs": [
        {
          "output_type": "execute_result",
          "data": {
            "text/plain": [
              "[2, 5, 6, 7, 10, 11]"
            ]
          },
          "metadata": {},
          "execution_count": 53
        }
      ]
    },
    {
      "cell_type": "code",
      "execution_count": 54,
      "metadata": {
        "id": "I8y_NllCHsni",
        "colab": {
          "base_uri": "https://localhost:8080/"
        },
        "outputId": "a0b01c0c-40d2-4b44-b83a-01d20000ef7f"
      },
      "outputs": [
        {
          "output_type": "execute_result",
          "data": {
            "text/plain": [
              "['Hola', 5, 6, 7, 10, 11]"
            ]
          },
          "metadata": {},
          "execution_count": 54
        }
      ],
      "source": [
        "# Diferencia entre listas y tuplas\n",
        "\n",
        "my_list[0] = 'Hola'\n",
        "my_list"
      ]
    },
    {
      "cell_type": "code",
      "source": [
        "my_list[1] = [\"Ahumada\",\"Romero\"]\n",
        "my_list"
      ],
      "metadata": {
        "colab": {
          "base_uri": "https://localhost:8080/"
        },
        "id": "rwHkjmz4JloP",
        "outputId": "a42652df-86ba-4bb3-f382-14a9f1fd6e45"
      },
      "execution_count": 55,
      "outputs": [
        {
          "output_type": "execute_result",
          "data": {
            "text/plain": [
              "['Hola', ['Ahumada', 'Romero'], 6, 7, 10, 11]"
            ]
          },
          "metadata": {},
          "execution_count": 55
        }
      ]
    },
    {
      "cell_type": "code",
      "source": [
        "my_list[1][0]"
      ],
      "metadata": {
        "colab": {
          "base_uri": "https://localhost:8080/",
          "height": 35
        },
        "id": "Stb0Hvi3J1Jw",
        "outputId": "7e42559f-56ef-456f-f253-b5858e711930"
      },
      "execution_count": 56,
      "outputs": [
        {
          "output_type": "execute_result",
          "data": {
            "text/plain": [
              "'Ahumada'"
            ],
            "application/vnd.google.colaboratory.intrinsic+json": {
              "type": "string"
            }
          },
          "metadata": {},
          "execution_count": 56
        }
      ]
    },
    {
      "cell_type": "code",
      "source": [
        "my_list[1][0] = 40"
      ],
      "metadata": {
        "id": "35JNYiJBJ58Z"
      },
      "execution_count": 58,
      "outputs": []
    },
    {
      "cell_type": "code",
      "source": [
        "my_list"
      ],
      "metadata": {
        "colab": {
          "base_uri": "https://localhost:8080/"
        },
        "id": "OiV4p3RKJ055",
        "outputId": "b9ce40c6-9a54-4a3f-fbb0-1724798e9bd2"
      },
      "execution_count": 59,
      "outputs": [
        {
          "output_type": "execute_result",
          "data": {
            "text/plain": [
              "['Hola', [40, 'Romero'], 6, 7, 10, 11]"
            ]
          },
          "metadata": {},
          "execution_count": 59
        }
      ]
    },
    {
      "cell_type": "code",
      "execution_count": 60,
      "metadata": {
        "scrolled": true,
        "id": "Tk8XwEukHsni",
        "colab": {
          "base_uri": "https://localhost:8080/",
          "height": 176
        },
        "outputId": "a0ffb192-3d26-4c75-b7af-f76d7a10c387"
      },
      "outputs": [
        {
          "output_type": "error",
          "ename": "TypeError",
          "evalue": "'tuple' object does not support item assignment",
          "traceback": [
            "\u001b[0;31m---------------------------------------------------------------------------\u001b[0m",
            "\u001b[0;31mTypeError\u001b[0m                                 Traceback (most recent call last)",
            "\u001b[0;32m<ipython-input-60-737cf33a1165>\u001b[0m in \u001b[0;36m<cell line: 0>\u001b[0;34m()\u001b[0m\n\u001b[1;32m      1\u001b[0m \u001b[0;31m# No se puede modificar elementos de esta forma en una tupla, a diferencia de una lista.\u001b[0m\u001b[0;34m\u001b[0m\u001b[0;34m\u001b[0m\u001b[0m\n\u001b[1;32m      2\u001b[0m \u001b[0;34m\u001b[0m\u001b[0m\n\u001b[0;32m----> 3\u001b[0;31m \u001b[0mmy_tuple\u001b[0m\u001b[0;34m[\u001b[0m\u001b[0;34m-\u001b[0m\u001b[0;36m1\u001b[0m\u001b[0;34m]\u001b[0m \u001b[0;34m=\u001b[0m \u001b[0;34m'Error'\u001b[0m\u001b[0;34m\u001b[0m\u001b[0;34m\u001b[0m\u001b[0m\n\u001b[0m",
            "\u001b[0;31mTypeError\u001b[0m: 'tuple' object does not support item assignment"
          ]
        }
      ],
      "source": [
        "# No se puede modificar elementos de esta forma en una tupla, a diferencia de una lista.\n",
        "\n",
        "my_tuple[-1] = 'Error'"
      ]
    },
    {
      "cell_type": "markdown",
      "metadata": {
        "id": "90Ssu6YRHsnj"
      },
      "source": [
        "### Propuesta de trabajo: Aplicación de conceptos.\n",
        "\n",
        "1. Crear una lista formada por variables de tipo Float.\n",
        "2. Extraer el último valor e imprimir en consola.\n",
        "3. Cambiar el primer valor por un String."
      ]
    },
    {
      "cell_type": "markdown",
      "source": [
        "### Operadores\n",
        "\n",
        "Los operadores en Python son símbolos especiales que se utilizan para realizar operaciones en los valores y variables. Hay diferentes tipos de operadores en Python, que se dividen en categorías como operadores aritméticos, operadores de asignación, operadores de comparación, operadores de pertenencia, entre otros."
      ],
      "metadata": {
        "id": "3IpeNEf7LCxK"
      }
    },
    {
      "cell_type": "code",
      "source": [
        "# Operadores de asignación\n",
        "\n",
        "x = 100\n",
        "y = 21"
      ],
      "metadata": {
        "id": "OKBaNTj3V8UM"
      },
      "execution_count": 61,
      "outputs": []
    },
    {
      "cell_type": "code",
      "source": [
        "x+y"
      ],
      "metadata": {
        "colab": {
          "base_uri": "https://localhost:8080/"
        },
        "id": "0Mci_AAQS2Vm",
        "outputId": "d32af03f-e490-4bdc-c89f-e41996e408a4"
      },
      "execution_count": 62,
      "outputs": [
        {
          "output_type": "execute_result",
          "data": {
            "text/plain": [
              "121"
            ]
          },
          "metadata": {},
          "execution_count": 62
        }
      ]
    },
    {
      "cell_type": "code",
      "execution_count": null,
      "metadata": {
        "scrolled": true,
        "id": "Gd8nbOK1HsnX",
        "colab": {
          "base_uri": "https://localhost:8080/"
        },
        "outputId": "d762d229-6f4c-4d77-85fa-c14a3f715466"
      },
      "outputs": [
        {
          "output_type": "stream",
          "name": "stdout",
          "text": [
            "121\n",
            "79\n",
            "2100\n",
            "4.761904761904762\n",
            "16\n",
            "10000\n",
            "4\n"
          ]
        }
      ],
      "source": [
        "# Operadores aritméticos\n",
        "\n",
        "print(x + y)    # Suma\n",
        "print(x - y)    # Resta\n",
        "print(x * y)    # Multiplicación\n",
        "print(x / y)    # División\n",
        "print(x % y)    # Módulo\n",
        "print(x ** 2)   # Exponente\n",
        "print(x // y)   # División Floor"
      ]
    },
    {
      "cell_type": "code",
      "source": [
        "x%2 == 0"
      ],
      "metadata": {
        "id": "fa0BcEI-Tp-t",
        "colab": {
          "base_uri": "https://localhost:8080/"
        },
        "outputId": "a8f680a6-bdb6-4701-be58-252c5ce1df88"
      },
      "execution_count": 63,
      "outputs": [
        {
          "output_type": "execute_result",
          "data": {
            "text/plain": [
              "True"
            ]
          },
          "metadata": {},
          "execution_count": 63
        }
      ]
    },
    {
      "cell_type": "code",
      "source": [
        " x == 100"
      ],
      "metadata": {
        "colab": {
          "base_uri": "https://localhost:8080/"
        },
        "id": "oeBHPAyZUHj9",
        "outputId": "64324b39-e1a6-4e25-e89b-1e591fa95996"
      },
      "execution_count": null,
      "outputs": [
        {
          "output_type": "execute_result",
          "data": {
            "text/plain": [
              "True"
            ]
          },
          "metadata": {},
          "execution_count": 75
        }
      ]
    },
    {
      "cell_type": "code",
      "execution_count": 64,
      "metadata": {
        "id": "z0obPbEoHsnY",
        "colab": {
          "base_uri": "https://localhost:8080/"
        },
        "outputId": "25a429d7-c5a1-4fe9-c00d-961973e987d7"
      },
      "outputs": [
        {
          "output_type": "stream",
          "name": "stdout",
          "text": [
            "False\n",
            "True\n",
            "True\n",
            "False\n"
          ]
        }
      ],
      "source": [
        "# Operadores de comparación\n",
        "\n",
        "print(x == y)   # Igualdad\n",
        "print(x != y)   # Diferencia\n",
        "print(x >= y)   # Mayor o Igual\n",
        "print(x <= y)   # Menor o Igual"
      ]
    },
    {
      "cell_type": "code",
      "execution_count": 65,
      "metadata": {
        "id": "RpzlyfsFHsnj",
        "colab": {
          "base_uri": "https://localhost:8080/"
        },
        "outputId": "571f00de-aa46-4e14-bd78-3cffe8bef7d9"
      },
      "outputs": [
        {
          "output_type": "stream",
          "name": "stdout",
          "text": [
            "Operador In:\n",
            "True\n",
            "True\n",
            "True\n",
            "----------\n",
            "Operador Not In:\n",
            "False\n",
            "True\n",
            "True\n"
          ]
        }
      ],
      "source": [
        "# Operadores de pertenencia\n",
        "\n",
        "list1= [1,2,3,4,5]\n",
        "string1= 'Esto es una string.'\n",
        "tuple1= (\"Esto\", \"es\", \"una\", \"tupla.\")\n",
        "\n",
        "print('Operador In:')\n",
        "print(4 in list1)\n",
        "print(\"es\" in string1)\n",
        "print(\"es\" in tuple1)\n",
        "\n",
        "print(10*'-')\n",
        "print('Operador Not In:')\n",
        "print(1 not in list1)\n",
        "print('Hola' not in list1)\n",
        "print('Hola' not in tuple1)"
      ]
    },
    {
      "cell_type": "markdown",
      "metadata": {
        "id": "ZjvV_5J4Hsnm"
      },
      "source": [
        "### Funciones\n",
        "\n",
        "Una función es un bloque de código reutilizable que realiza una tarea específica. Es una forma de agrupar instrucciones y darle un nombre, para que puedan ser invocadas o llamadas desde otras partes del programa según sea necesario.\n",
        "\n",
        "#### Funciones integradas (built-in functions)\n",
        "\n",
        "Son funciones predefinidas en Python."
      ]
    },
    {
      "cell_type": "code",
      "source": [
        "# Función print()\n",
        "\n",
        "\n",
        "for i in range(1,10):\n",
        "  print('Bienvenidos a', i)"
      ],
      "metadata": {
        "id": "_wbdN9IIRsRE",
        "colab": {
          "base_uri": "https://localhost:8080/"
        },
        "outputId": "ca3dc1e8-670b-422d-b676-198283b90cda"
      },
      "execution_count": 66,
      "outputs": [
        {
          "output_type": "stream",
          "name": "stdout",
          "text": [
            "Bienvenidos a 1\n",
            "Bienvenidos a 2\n",
            "Bienvenidos a 3\n",
            "Bienvenidos a 4\n",
            "Bienvenidos a 5\n",
            "Bienvenidos a 6\n",
            "Bienvenidos a 7\n",
            "Bienvenidos a 8\n",
            "Bienvenidos a 9\n"
          ]
        }
      ]
    },
    {
      "cell_type": "code",
      "source": [
        "# Función input()\n",
        "\n",
        "nombre = input('¿Cómo se llama? ')\n",
        "print(\"Me alegro de conocerle,\", nombre)"
      ],
      "metadata": {
        "id": "zGD06hpmSS5L"
      },
      "execution_count": null,
      "outputs": []
    },
    {
      "cell_type": "markdown",
      "source": [
        "#### Funciones definidas por el usuario\n",
        "\n",
        "Son funciones creadas por los propios programadores para realizar tareas específicas. Estas funciones se definen utilizando la palabra clave def seguida del nombre de la función y su implementación. Los parámetros y el valor de retorno son opcionales y dependen de la lógica de la función."
      ],
      "metadata": {
        "id": "9NtlkrkFRtuZ"
      }
    },
    {
      "cell_type": "code",
      "execution_count": null,
      "metadata": {
        "id": "4Z1NrsbcHsnm"
      },
      "outputs": [],
      "source": [
        "def my_function(x,y):\n",
        "    print(\"esto es una funcion\")\n",
        "    print(x+y)\n",
        "    def mifuncion():\n",
        "      return print(\"Epa\")\n",
        "    mifuncion()\n",
        "    return None"
      ]
    },
    {
      "cell_type": "code",
      "source": [
        "def mifuncion:\n"
      ],
      "metadata": {
        "id": "d6SqmmyBZtzX"
      },
      "execution_count": null,
      "outputs": []
    },
    {
      "cell_type": "code",
      "source": [
        "def my_function(x,y):\n",
        "    print(\"esto es una funcion\")\n",
        "    return (x+y)"
      ],
      "metadata": {
        "id": "cBw4-TjBZH-P"
      },
      "execution_count": null,
      "outputs": []
    },
    {
      "cell_type": "code",
      "source": [
        "def my_function():\n",
        "    return print(\"Holaaa\")"
      ],
      "metadata": {
        "id": "-qgWcKdUTy7H"
      },
      "execution_count": null,
      "outputs": []
    },
    {
      "cell_type": "code",
      "execution_count": null,
      "metadata": {
        "id": "PJGXqhAxHsnm"
      },
      "outputs": [],
      "source": [
        "my_function(100,56)"
      ]
    },
    {
      "cell_type": "code",
      "source": [
        "print(a)"
      ],
      "metadata": {
        "id": "Z1RQEX-5ZGMg"
      },
      "execution_count": null,
      "outputs": []
    },
    {
      "cell_type": "markdown",
      "source": [
        "#### Funciones lambda (funciones anónimas)\n",
        "\n",
        "Son funciones de una sola línea que no requieren un nombre definido. Se crean utilizando la palabra clave lambda y se pueden asignar a variables o utilizar en expresiones donde se requiere una función. Las funciones lambda son útiles cuando se necesita una función simple y no es necesario definirla formalmente."
      ],
      "metadata": {
        "id": "zqOsbPCWSAN5"
      }
    },
    {
      "cell_type": "code",
      "execution_count": null,
      "metadata": {
        "id": "orxeTEYVHsnm"
      },
      "outputs": [],
      "source": [
        "z = lambda x,y: x+y #Funcion para sumar dos numeros (anonima)"
      ]
    },
    {
      "cell_type": "code",
      "source": [
        "z(1,5)"
      ],
      "metadata": {
        "id": "M_gGylwEbKyh"
      },
      "execution_count": null,
      "outputs": []
    },
    {
      "cell_type": "markdown",
      "source": [
        "### Estructuras de Control\n",
        "\n",
        "Las estructuras de control en Python son bloques de código que permiten tomar decisiones, repetir acciones y ejecutar diferentes secciones de código según ciertas condiciones.\n",
        "\n",
        "#### Estructuras de Control Condicionales\n",
        "\n",
        "**Sentencias 'if-elif-else'**\n",
        "\n",
        "Permite evaluar múltiples condiciones en orden y ejecutar diferentes bloques de código según cada condición."
      ],
      "metadata": {
        "id": "_uolGSesLZZJ"
      }
    },
    {
      "cell_type": "code",
      "execution_count": null,
      "metadata": {
        "id": "6Y4TltolHsnY",
        "colab": {
          "base_uri": "https://localhost:8080/"
        },
        "outputId": "ab1ce54d-24d9-4283-923c-5c20cdea8d2e"
      },
      "outputs": [
        {
          "output_type": "stream",
          "name": "stdout",
          "text": [
            "B is greater than A\n"
          ]
        }
      ],
      "source": [
        "a = 200\n",
        "b = 300\n",
        "\n",
        "if b > a:\n",
        "    print(\"B is greater than A\")\n",
        "elif a == b:\n",
        "    print(\"A and B are equal\")\n",
        "else:\n",
        "    print(\"A is greater than B\")"
      ]
    },
    {
      "cell_type": "markdown",
      "metadata": {
        "id": "tiNJer7cHsnj"
      },
      "source": [
        "#### Estructuras de Bucle\n",
        "\n",
        "**Blucle 'while'**\n",
        "\n",
        "Permite repetir un bloque de código mientras se cumpla una condición específica."
      ]
    },
    {
      "cell_type": "code",
      "execution_count": null,
      "metadata": {
        "id": "sHRfkOXuHsnk"
      },
      "outputs": [],
      "source": [
        "j = 1\n",
        "i = 1\n",
        "while i <= 5:\n",
        "    print(i)\n",
        "    j += 1 # i = i + 1\n",
        "else: print('Stop!')"
      ]
    },
    {
      "cell_type": "code",
      "source": [
        "i = 1\n",
        "while i <= 5:\n",
        "    print(i)\n",
        "    i += 1 # i = i + 1\n",
        "print(\"Stop!\")"
      ],
      "metadata": {
        "colab": {
          "base_uri": "https://localhost:8080/"
        },
        "id": "jlDZdrplehMJ",
        "outputId": "ae4f3770-85c2-473d-ce08-4485832a4acf"
      },
      "execution_count": null,
      "outputs": [
        {
          "output_type": "stream",
          "name": "stdout",
          "text": [
            "1\n",
            "2\n",
            "3\n",
            "4\n",
            "5\n",
            "Stop!\n"
          ]
        }
      ]
    },
    {
      "cell_type": "code",
      "source": [
        "j = 1\n",
        "i = 1\n",
        "while i <= 5:\n",
        "    print(i)\n",
        "    i += 1  # Se debe incrementar 'i' para que el ciclo termine\n",
        "else:\n",
        "    print('Stop!')"
      ],
      "metadata": {
        "id": "5N3TFJQTWElE"
      },
      "execution_count": null,
      "outputs": []
    },
    {
      "cell_type": "markdown",
      "metadata": {
        "id": "FDQZVzmuHsnk"
      },
      "source": [
        "**Bucle 'for'**\n",
        "\n",
        "Permite iterar sobre una secuencia de elementos (como una lista, una cadena de caracteres, etc.) y ejecutar un bloque de código para cada elemento."
      ]
    },
    {
      "cell_type": "code",
      "execution_count": null,
      "metadata": {
        "id": "LAV_-StbHsnk",
        "colab": {
          "base_uri": "https://localhost:8080/"
        },
        "outputId": "0ccdd321-a433-4c18-8c7a-068dd1f1e778"
      },
      "outputs": [
        {
          "output_type": "stream",
          "name": "stdout",
          "text": [
            "Manzana\n",
            "Ecuador\n",
            "Banana\n",
            "Frutilla\n"
          ]
        }
      ],
      "source": [
        "fruits = [\"Manzana\", \"Banana\", \"Frutilla\"]\n",
        "for fruta in fruits:\n",
        "  if fruta == \"Banana\":\n",
        "    print(\"Ecuador\")\n",
        "  print(fruta)"
      ]
    },
    {
      "cell_type": "code",
      "execution_count": null,
      "metadata": {
        "id": "0_qAVu5cHsnk",
        "colab": {
          "base_uri": "https://localhost:8080/"
        },
        "outputId": "f47b3190-cce2-48b2-8cb3-b34c5e38bb72"
      },
      "outputs": [
        {
          "output_type": "stream",
          "name": "stdout",
          "text": [
            "0\n",
            "1\n",
            "2\n",
            "3\n",
            "4\n"
          ]
        }
      ],
      "source": [
        "for x in range(5):\n",
        "    print(x)"
      ]
    },
    {
      "cell_type": "code",
      "source": [
        "list(range(1,10))"
      ],
      "metadata": {
        "colab": {
          "base_uri": "https://localhost:8080/"
        },
        "id": "6dkKeI0zfqko",
        "outputId": "0edba741-4cce-4302-e03f-1de67f88a1dc"
      },
      "execution_count": null,
      "outputs": [
        {
          "output_type": "execute_result",
          "data": {
            "text/plain": [
              "[1, 2, 3, 4, 5, 6, 7, 8, 9]"
            ]
          },
          "metadata": {},
          "execution_count": 117
        }
      ]
    },
    {
      "cell_type": "code",
      "source": [
        "programa = ['Introduccion a Python','Probabilidad','Estadística Descriptiva','Series de Tiempo','Estadística Inferencial']\n",
        "programa = ['Introduccion a Python','Probabilidad','Estadística Descriptiva','Series de Tiempo','Estadística Inferencial']\n",
        "\n",
        "for i,x in programa,programa:\n",
        "    print(x)"
      ],
      "metadata": {
        "colab": {
          "base_uri": "https://localhost:8080/",
          "height": 193
        },
        "id": "bLK2fQBshKj0",
        "outputId": "526e9c25-8868-4b1c-b15e-edf97109a3d2"
      },
      "execution_count": null,
      "outputs": [
        {
          "output_type": "error",
          "ename": "ValueError",
          "evalue": "too many values to unpack (expected 2)",
          "traceback": [
            "\u001b[0;31m---------------------------------------------------------------------------\u001b[0m",
            "\u001b[0;31mValueError\u001b[0m                                Traceback (most recent call last)",
            "\u001b[0;32m<ipython-input-124-d44aa859f351>\u001b[0m in \u001b[0;36m<cell line: 4>\u001b[0;34m()\u001b[0m\n\u001b[1;32m      2\u001b[0m \u001b[0mprograma\u001b[0m \u001b[0;34m=\u001b[0m \u001b[0;34m[\u001b[0m\u001b[0;34m'Introduccion a Python'\u001b[0m\u001b[0;34m,\u001b[0m\u001b[0;34m'Probabilidad'\u001b[0m\u001b[0;34m,\u001b[0m\u001b[0;34m'Estadística Descriptiva'\u001b[0m\u001b[0;34m,\u001b[0m\u001b[0;34m'Series de Tiempo'\u001b[0m\u001b[0;34m,\u001b[0m\u001b[0;34m'Estadística Inferencial'\u001b[0m\u001b[0;34m]\u001b[0m\u001b[0;34m\u001b[0m\u001b[0;34m\u001b[0m\u001b[0m\n\u001b[1;32m      3\u001b[0m \u001b[0;34m\u001b[0m\u001b[0m\n\u001b[0;32m----> 4\u001b[0;31m \u001b[0;32mfor\u001b[0m \u001b[0mi\u001b[0m\u001b[0;34m,\u001b[0m\u001b[0mx\u001b[0m \u001b[0;32min\u001b[0m \u001b[0mprograma\u001b[0m\u001b[0;34m,\u001b[0m\u001b[0mprograma\u001b[0m\u001b[0;34m:\u001b[0m\u001b[0;34m\u001b[0m\u001b[0;34m\u001b[0m\u001b[0m\n\u001b[0m\u001b[1;32m      5\u001b[0m     \u001b[0mprint\u001b[0m\u001b[0;34m(\u001b[0m\u001b[0mi\u001b[0m\u001b[0;34m,\u001b[0m\u001b[0mx\u001b[0m\u001b[0;34m)\u001b[0m\u001b[0;34m\u001b[0m\u001b[0;34m\u001b[0m\u001b[0m\n",
            "\u001b[0;31mValueError\u001b[0m: too many values to unpack (expected 2)"
          ]
        }
      ]
    },
    {
      "cell_type": "code",
      "source": [
        "x,y"
      ],
      "metadata": {
        "colab": {
          "base_uri": "https://localhost:8080/"
        },
        "id": "W7UZjXnahfUK",
        "outputId": "daca3c34-2a94-4a86-9bd8-4d557e82131c"
      },
      "execution_count": null,
      "outputs": [
        {
          "output_type": "execute_result",
          "data": {
            "text/plain": [
              "('Estadística Inferencial', 21)"
            ]
          },
          "metadata": {},
          "execution_count": 125
        }
      ]
    },
    {
      "cell_type": "code",
      "execution_count": null,
      "metadata": {
        "id": "_75qOoMVHsnl",
        "colab": {
          "base_uri": "https://localhost:8080/"
        },
        "outputId": "156762a6-eadc-4290-b303-8eb4992c7a4b"
      },
      "outputs": [
        {
          "output_type": "stream",
          "name": "stdout",
          "text": [
            "1 Introduccion a Python\n",
            "2 Probabilidad\n",
            "3 Estadística Descriptiva\n",
            "4 Series de Tiempo\n",
            "5 Estadística Inferencial\n"
          ]
        }
      ],
      "source": [
        "programa = ['Introduccion a Python','Probabilidad','Estadística Descriptiva','Series de Tiempo','Estadística Inferencial']\n",
        "\n",
        "for i, x in enumerate(programa):\n",
        "    print(str(i+1),x)"
      ]
    },
    {
      "cell_type": "code",
      "source": [
        "str(1)+str(2)"
      ],
      "metadata": {
        "id": "ru_I0LRZZnKM"
      },
      "execution_count": null,
      "outputs": []
    },
    {
      "cell_type": "code",
      "execution_count": null,
      "metadata": {
        "id": "fc-psbIqHsnl"
      },
      "outputs": [],
      "source": [
        "for i, x in enumerate(programa):\n",
        "    print(str(i+1)+'.',x)"
      ]
    },
    {
      "cell_type": "markdown",
      "metadata": {
        "id": "j7qRURnuHsnp"
      },
      "source": [
        "## Librerías en Python\n",
        "\n",
        "En Python, una librería esencialmente es un conjunto de código reutilizable escrito por otros programadores que ofrece una serie de funcionalidades específicas.\n",
        "\n",
        "Las librerías en Python son creadas para abordar diferentes propósitos y áreas, como el procesamiento de imágenes, el análisis de datos, la creación de interfaces gráficas, el desarrollo web, la manipulación de archivos, entre otros. Al utilizar una librería, podemos acceder a un conjunto de funciones ya implementadas y probadas, lo que ahorra tiempo y esfuerzo en la creación de código desde cero.\n",
        "\n",
        "<p style='text-align: justify;'>Las librerías más importantes en Python que utilizaremos a lo largo del curso se presentan a continuación. </p>\n",
        "\n",
        "**Pandas**\n",
        "\n",
        "<img src='https://upload.wikimedia.org/wikipedia/commons/thumb/e/ed/Pandas_logo.svg/1920px-Pandas_logo.svg.png' width=\"20%\" align=\"center\"/>\n",
        "\n",
        "<p style='text-align: justify;'>Pandas es una librería que proporciona estructuras de datos y herramientas para el análisis y manipulación de datos de manera eficiente. Su nombre se deriva de \"Panel Data\" y \"Python Data Analysis\". Pandas se utiliza ampliamente en el campo de la ciencia de datos. La estructura de datos principal en Pandas es el DataFrame, que es una tabla bidimensional que contiene filas y columnas.</p>\n",
        "\n",
        "**Numpy**\n",
        "\n",
        "<img src='https://www.freecodecamp.org/espanol/news/content/images/2021/04/numpy-1-1-.png' width=\"20%\" align=\"center\"/>\n",
        "\n",
        "<p style='text-align: justify;'> NumPy es una librería útil para realizar cálculos numéricos y científicos. El nombre \"NumPy\" proviene de \"Numerical Python\". Proporciona un poderoso objeto de matriz multidimensional llamado ndarray, que permite realizar operaciones eficientes con conjuntos de datos numéricos grandes.</p>\n",
        "\n",
        "**Matplotlib**\n",
        "\n",
        "<img src='https://matplotlib.org/3.5.1/_static/logo2.svg' width=\"20%\" align=\"center\"/>\n",
        "\n",
        "Matplotlib es una librería utilizada para la visualización de datos. Proporciona una amplia variedad de herramientas y funciones para crear gráficos, diagramas y visualizaciones de alta calidad en diferentes formatos.\n",
        "\n",
        "**Plotly**\n",
        "\n",
        "\n",
        "<img src='https://s3-ap-south-1.amazonaws.com/av-blog-media/wp-content/uploads/2017/01/04015019/plotly_logo.png' width=\"15%\" align=\"center\"/>\n",
        "\n",
        "\n",
        "Plotly es una librería de visualización interactiva de datos que ofrece herramientas para crear gráficos interactivos y visualizaciones dinámicas. A diferencia de Matplotlib, Plotly está diseñado para generar gráficos interactivos que se pueden explorar y manipular en tiempo real.\n",
        "\n",
        "**Seaborn**\n",
        "\n",
        "\n",
        "<img src='https://seaborn.pydata.org/_static/logo-wide-lightbg.svg' width=\"20%\" align=\"center\"/>\n",
        "\n",
        "Seaborn es una librería de visualización de datos en Python que se basa en Matplotlib. Está diseñada específicamente para crear visualizaciones estadísticas atractivas y informativas.\n",
        "\n",
        "**Scipy**\n",
        "\n",
        "\n",
        "<img src='https://scipy.org/images/logo.svg' width=\"15%\" align=\"center\"/>\n",
        "\n",
        "SciPy es una librería que proporciona herramientas y algoritmos para realizar cálculos científicos y técnicos. SciPy se basa en NumPy y extiende su funcionalidad al proporcionar un conjunto de módulos especializados para tareas numéricas y científicas.\n",
        "\n",
        "**Statsmodels**\n",
        "\n",
        "\n",
        "<img src='https://cmdlinetips.com/wp-content/uploads/2021/01/statsmodels_Python.png' width=\"15%\" align=\"center\"/>\n",
        "\n",
        "<p style='text-align: justify;'> La librería Statsmodels se enfoca en la estimación de modelos estadísticos y el análisis de datos. Proporciona una amplia gama de herramientas y funciones para realizar análisis estadísticos, realizar pruebas de hipótesis, ajustar modelos de regresión, explorar relaciones entre variables y realizar pronósticos."
      ]
    },
    {
      "cell_type": "code",
      "execution_count": null,
      "metadata": {
        "id": "MvVvQ40CHsnp"
      },
      "outputs": [],
      "source": [
        "# ¿Cómo importar una librería?\n",
        "\n",
        "import pandas as pd\n",
        "\n",
        "from pandas import DataFrame\n",
        "\n",
        "import numpy as np\n",
        "\n",
        "import matplotlib as mpl\n",
        "\n",
        "import matplotlib.pyplot as plt\n",
        "\n",
        "import plotly.express as px\n",
        "\n",
        "import scipy.stats as scs\n",
        "\n",
        "import seaborn as sns\n",
        "\n",
        "import statsmodels\n",
        "\n",
        "# ¿Qué ocurre si no tenemos la librería instalada?\n",
        "\n",
        "#pip install plotly.express"
      ]
    },
    {
      "cell_type": "markdown",
      "metadata": {
        "id": "ZAhUqP4xHsod"
      },
      "source": [
        "# Enlaces\n",
        "\n",
        "- **W3Schools** tiene una sección dedicada a Python con tutoriales prácticos y ejemplos de código. Se puede acceder desde el siguiente link: https://www.w3schools.com/python/\n",
        "\n",
        "- **Real Python** es un sitio web que ofrece tutoriales, artículos y videos sobre Python. Se puede acceder desde el siguiente link: https://realpython.com/\n"
      ]
    }
  ],
  "metadata": {
    "kernelspec": {
      "display_name": "Python 3",
      "language": "python",
      "name": "python3"
    },
    "language_info": {
      "codemirror_mode": {
        "name": "ipython",
        "version": 3
      },
      "file_extension": ".py",
      "mimetype": "text/x-python",
      "name": "python",
      "nbconvert_exporter": "python",
      "pygments_lexer": "ipython3",
      "version": "3.8.3"
    },
    "colab": {
      "provenance": []
    }
  },
  "nbformat": 4,
  "nbformat_minor": 0
}